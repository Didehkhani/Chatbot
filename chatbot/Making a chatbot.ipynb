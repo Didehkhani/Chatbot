{
 "cells": [
  {
   "cell_type": "markdown",
   "id": "a779f62d",
   "metadata": {},
   "source": [
    "# Building a chatbot with Deep NLP"
   ]
  },
  {
   "cell_type": "code",
   "execution_count": 1,
   "id": "6b547a6a",
   "metadata": {},
   "outputs": [],
   "source": [
    "#importing the libraries\n",
    "import numpy as np\n",
    "import tensorflow as tf\n",
    "import re\n",
    "import time"
   ]
  },
  {
   "cell_type": "code",
   "execution_count": 2,
   "id": "852bf0a5",
   "metadata": {},
   "outputs": [],
   "source": [
    "##################Part1 Data Preprocessing################\n",
    "\n",
    "# Importing the Dataset\n",
    "lines = open('movie_lines.txt' , encoding = 'utf-8', errors= 'ignore').read().split('\\n')\n",
    "conversations = open('movie_conversations.txt' , encoding = 'utf-8', errors= 'ignore').read().split('\\n')"
   ]
  },
  {
   "cell_type": "code",
   "execution_count": 3,
   "id": "38f661d6",
   "metadata": {},
   "outputs": [],
   "source": [
    "# Creating a dictionary that maps each line and its id\n",
    "id2line = {}\n",
    "for line in lines:\n",
    "    _line = line.split(' +++$+++ ')\n",
    "    if len(_line) ==5:\n",
    "        id2line[_line[0]] = _line[4]"
   ]
  },
  {
   "cell_type": "code",
   "execution_count": 4,
   "id": "3864bfd8",
   "metadata": {},
   "outputs": [],
   "source": [
    "#Creating a list of all of the conversations\n",
    "conversations_ids = []\n",
    "for conversation in conversations[:-1]:\n",
    "    _conversation = conversation.split(' +++$+++ ')[-1][1:-1].replace(\"'\", \"\").replace(\" \", \"\")\n",
    "    conversations_ids.append( _conversation.split(','))"
   ]
  },
  {
   "cell_type": "code",
   "execution_count": 5,
   "id": "e8d2b64b",
   "metadata": {},
   "outputs": [],
   "source": [
    "# Getting separately the questions and the answers \n",
    "questions =[]\n",
    "answers=[]\n",
    "for conversation in conversations_ids:\n",
    "    for i in range(len(conversation) -1):\n",
    "        questions.append(id2line[conversation[i]])\n",
    "        answers.append(id2line[conversation[i+1]])"
   ]
  },
  {
   "cell_type": "code",
   "execution_count": 6,
   "id": "a3bc70ab",
   "metadata": {},
   "outputs": [],
   "source": [
    "# Doing the first cleaning of the text\n",
    "def clean_text(text):\n",
    "    text = text.lower()\n",
    "    text = re.sub(r\"i'm\" , \"i am\", text)\n",
    "    text =re.sub(r\" he's\", \" he is\", text)\n",
    "    text = re.sub(r\"she's\", \"she is\", text)\n",
    "    text= re.sub(r\"that's\", \"that is\", text)\n",
    "    text = re.sub(r\"what's\", \"what is\", text)\n",
    "    text=re.sub(r\"where's\",\"where is\", text)\n",
    "    text=re.sub(r\"\\'ll\", \" will\", text)\n",
    "    text= re.sub(r\"\\'ve\",\" have\", text)\n",
    "    text=re.sub(r\"\\'re\", \" are\", text)\n",
    "    text=re.sub(r\"\\'d\",\" would\",text)\n",
    "    text=re.sub(r\"won't\",\" will not\", text)\n",
    "    text=re.sub(r\"can't\",\" cannot\",text)\n",
    "    text=re.sub(r\"[-()\\\"# /@;:<>{}+=~|. ? , ]\",\"\",text)\n",
    "    return text"
   ]
  },
  {
   "cell_type": "code",
   "execution_count": 7,
   "id": "fb27f7cc",
   "metadata": {},
   "outputs": [],
   "source": [
    "#Cleaning the questions\n",
    "clean_questions = []\n",
    "for question in questions:\n",
    "    clean_questions.append(clean_text(question))"
   ]
  },
  {
   "cell_type": "code",
   "execution_count": 8,
   "id": "11fe99e2",
   "metadata": {},
   "outputs": [],
   "source": [
    "#Cleaning the answers\n",
    "clean_answers= []\n",
    "for answer in answers:\n",
    "    clean_answers.append(clean_text(answer))\n",
    "    "
   ]
  },
  {
   "cell_type": "code",
   "execution_count": 9,
   "id": "f2f02da0",
   "metadata": {},
   "outputs": [],
   "source": [
    "#Creating the dictionary that maps each word to its number of occurances\n",
    "word2count = {}\n",
    "for question in clean_questions:\n",
    "    for word in question.split():\n",
    "        if word not in word2count:\n",
    "            word2count[word] = 1\n",
    "        else:\n",
    "            word2count[word] += 1\n",
    "            \n",
    "for answer in clean_answers:\n",
    "    for word in answer.split():\n",
    "        if word not in word2count:\n",
    "            word2count[word] = 1\n",
    "        else:\n",
    "            word2count[word] += 1\n",
    "            "
   ]
  },
  {
   "cell_type": "code",
   "execution_count": 10,
   "id": "ca7d5a6d",
   "metadata": {},
   "outputs": [],
   "source": [
    "# Creating two dictionaries that map the questions words and the answers words to a unique integer\n",
    "threshhold = 20\n",
    "questionswords2int = {}\n",
    "word_number =0\n",
    "for word,count in word2count.items():\n",
    "    if count >= threshhold:\n",
    "        questionswords2int[word] = word_number\n",
    "        word_number += 1 \n",
    "answerswords2int = {}\n",
    "word_number =0\n",
    "for word,count in word2count.items():\n",
    "    if count >= threshhold:\n",
    "        answerswords2int[word] = word_number\n",
    "        word_number += 1        \n",
    "        "
   ]
  },
  {
   "cell_type": "code",
   "execution_count": 11,
   "id": "38fdcf72",
   "metadata": {},
   "outputs": [],
   "source": [
    "#Adding the last tokens to these dictionaries\n",
    "tokens =['<PAD>','<EOS>','<OUT>','<EOS>']\n",
    "for token in tokens:\n",
    "    questionswords2int[token] = len(questionswords2int) + 1\n",
    "for token in tokens:\n",
    "    answerswords2int[token] = len(answerswords2int) + 1    "
   ]
  },
  {
   "cell_type": "code",
   "execution_count": 12,
   "id": "e06a4241",
   "metadata": {},
   "outputs": [],
   "source": [
    "# Creating the inverse dictionary of the answerswords2int dictionary\n",
    "answersints2word={w_i: w for w,w_i in answerswords2int.items()}"
   ]
  },
  {
   "cell_type": "code",
   "execution_count": 13,
   "id": "a930fae8",
   "metadata": {},
   "outputs": [],
   "source": [
    "# Adding the End of String token to the end of every answer\n",
    "for i in range(len(clean_answers)):\n",
    "    clean_answers[i] += '<EOS>'"
   ]
  },
  {
   "cell_type": "code",
   "execution_count": 14,
   "id": "84bee31a",
   "metadata": {},
   "outputs": [],
   "source": [
    "# Translating all the questions and answers into integers\n",
    "# and replacing all the words that were filtered out by <OUT>\n",
    "questions_into_int = []\n",
    "for question in clean_questions:\n",
    "    ints =[]\n",
    "    for word in question.split():\n",
    "        if word not in questionswords2int:\n",
    "            ints.append(questionswords2int['<OUT>'])\n",
    "        else:\n",
    "            ints.append(questionswords2int[word])\n",
    "    questions_into_int.append(ints)\n",
    "answers_into_int = []\n",
    "for answer in clean_answers:\n",
    "    ints = []\n",
    "    for word in answer.split():\n",
    "        if word not in answerswords2int:\n",
    "            ints.append(answerswords2int['<OUT>'])\n",
    "        else:\n",
    "            ints.append(answerswords2int[word])\n",
    "    answers_into_int.append(ints)        "
   ]
  },
  {
   "cell_type": "code",
   "execution_count": 15,
   "id": "021e2f4f",
   "metadata": {},
   "outputs": [],
   "source": [
    "#Sorting questions and answers by the length of questions\n",
    "#resason 4 this : cause it speeds up training & reduce the Loss\n",
    "sorted_clean_questions = []\n",
    "sorted_clean_answers = []\n",
    "for length in range(1, 25+1):\n",
    "    for i in enumerate(questions_into_int):\n",
    "        if len(i [1]) == length:\n",
    "            sorted_clean_questions.append(questions_into_int[i[0]])\n",
    "            sorted_clean_answers.append(answers_into_int[i[0]])"
   ]
  },
  {
   "cell_type": "code",
   "execution_count": 16,
   "id": "40423cca",
   "metadata": {},
   "outputs": [
    {
     "name": "stdout",
     "output_type": "stream",
     "text": [
      "WARNING:tensorflow:From C:\\Users\\USER\\anaconda3\\envs\\divar-nlp-workshop\\lib\\site-packages\\tensorflow\\python\\compat\\v2_compat.py:111: disable_resource_variables (from tensorflow.python.ops.variable_scope) is deprecated and will be removed in a future version.\n",
      "Instructions for updating:\n",
      "non-resource variables are not supported in the long term\n"
     ]
    }
   ],
   "source": [
    "import tensorflow.compat.v1 as tf\n",
    "tf.disable_v2_behavior()\n",
    "#import tensorflow as tf2 #Tensorflow 2.x"
   ]
  },
  {
   "cell_type": "code",
   "execution_count": 17,
   "id": "e22c19ba",
   "metadata": {},
   "outputs": [],
   "source": [
    "############################################## PART2 #######################################\n",
    "#Creating placeholders for the inputs and the targets\n",
    "def model_inputs():\n",
    "    inputs = tf.placeholder(tf.int32, [None, None], name= 'input')\n",
    "    targets = tf.placeholder(tf.int32, [None,None], name= 'input')\n",
    "    lr = tf.placeholder(tf.float32, [None,None], name= 'learning_rate')\n",
    "    keep_prob = tf.placeholder(tf.float32, name = 'keep_prob')\n",
    "    return inputs, targets, lr, keep_prob"
   ]
  },
  {
   "cell_type": "code",
   "execution_count": 18,
   "id": "74cc871c",
   "metadata": {},
   "outputs": [],
   "source": [
    "# Preprocessing the targets\n",
    "def preprocess_target(targets, word2int, batch_size):\n",
    "    left_side = tf.fill([batch_size,1], word2int['<SOS>'])\n",
    "    right_side = tf.strided_slice(targets, [0,0], [batch_size, -1], [1,1])\n",
    "    preprocessed_targets = tf.concat([left_side,right_side], 1)\n",
    "    return preprocessed_targets    "
   ]
  },
  {
   "cell_type": "code",
   "execution_count": 19,
   "id": "7ee20cde",
   "metadata": {},
   "outputs": [],
   "source": [
    "#Creating the Encoder RNN Layer\n",
    "def encoder_rnn_layer(rnn_inputs, rnn_size, num_layers, keep_prob, sequance_length):\n",
    "    lstm = tf.contrib.rnn.BasicLSTMCell(rnn_size)\n",
    "    lstm_dropout = tf.contrib.rnn.DropoutWrapper(lstm,input_keep_prob = keep_prob)\n",
    "    encoder_cell = tf.contrib.rnn.MultiRNNCell([lstm_dropout] * num_layers)\n",
    "    encoder_output, encoder_state = tf.nn.bidirectional_dynamic_rnn(cell_fw=encoder_cell,\n",
    "                                                       cell_bw=encoder_cell,\n",
    "                                                       sequance_length=sequance_length,\n",
    "                                                       inputs =rnn_inputs,\n",
    "                                                       dtype=tf.float32\n",
    "    )\n",
    "    return encoder_state"
   ]
  },
  {
   "cell_type": "code",
   "execution_count": 20,
   "id": "7de4a5a8",
   "metadata": {},
   "outputs": [],
   "source": [
    "#Decoding the training set\n",
    "def decode_training_set(encoder_state, decoder_cell, decoder_embeded_input, sequence_length, decoding_scope,output_function, keep_prob, batch_size):\n",
    "    attention_states = tf.zeros([batch_size, 1, decoder_cell.output_sell])\n",
    "    attention_keys, attention_values, attention_score_function, attention_construct_function = tf.contrib.seq2seq.prepare_attention(attention_states,attention_option = \"bahdanau\",num_units = decoder_cell.output_size)\n",
    "    training_decoder_function = tf.contrib.seq2seq.attention_decoder_fn_train(encoder_state[0],\n",
    "                                                                             attention_keys,\n",
    "                                                                             attention_values,\n",
    "                                                                             attention_score_function,\n",
    "                                                                             attention_construct_function,\n",
    "                                                                             name=\"attn_dec_train\")\n",
    "    decoder_output,decoder_final_state, decoder_final_context_state = tf.contrib.seq2seq.dynamic_rnn_decoder(decoder_cell,\n",
    "                                                                                                            training_decoder_function,\n",
    "                                                                                                            decoder_embedded_input,\n",
    "                                                                                                            sequance_length,\n",
    "                                                                                                            scope = decoding_scope)\n",
    "    decoder_output_dropout = tf.nn.dropout(decoder_output, keep_prob)\n",
    "    return output_function(decoder_output_dropout)"
   ]
  },
  {
   "cell_type": "code",
   "execution_count": 21,
   "id": "39f9d262",
   "metadata": {},
   "outputs": [],
   "source": [
    "#Decoding the test/validation set\n",
    "def decode_test_set(encoder_state, decoder_cell, decoder_embeded_matrix, sos_id, eos_id, maximum_length, num_words, sequence_length, decoding_scope,output_function, keep_prob, batch_size):\n",
    "    attention_states = tf.zeros([batch_size, 1, decoder_cell.output_sell])\n",
    "    attention_keys, attention_values, attention_score_function, attention_construct_function = tf.contrib.seq2seq.prepare_attention(attention_states,attention_option = \"bahdanau\",num_units = decoder_cell.output_size)\n",
    "    test_decoder_function = tf.contrib.seq2seq.attention_decoder_fn_inference(output_function,\n",
    "                                                                             encoder_state[0],\n",
    "                                                                             attention_keys,\n",
    "                                                                             attention_values,\n",
    "                                                                             attention_score_function,\n",
    "                                                                             attention_construct_function,\n",
    "                                                                              decoder_embedding_matrix,\n",
    "                                                                              sos_id,\n",
    "                                                                              eos_id,\n",
    "                                                                              maximum_length,\n",
    "                                                                              num_words,\n",
    "                                                                              name=\"attn_dec_inf\")\n",
    "    test_predictions,decoder_output,decoder_final_state, decoder_final_context_state = tf.contrib.seq2seq.dynamic_rnn_decoder(decoder_cell,\n",
    "                                                                                                                              test_decoder_function,\n",
    "                                                                                                                              scope = decoding_scope)\n",
    "    return test_predictions"
   ]
  },
  {
   "cell_type": "code",
   "execution_count": 22,
   "id": "eba36f88",
   "metadata": {},
   "outputs": [],
   "source": [
    "#Creating the Decoder RNN\n",
    "def decoder_rnn(decoder_embedded_input, decoder_embeddings_matrix, encoder_state, num_words, sequance_length, rnn_size, num_layers, word2int, keep_pro,batch_size):\n",
    "    with tf.variable_scope(\"decoding\") as decoding_scope:\n",
    "        lstm = tf.contrib.rnn.BasicLSTMCell(rnn_size)\n",
    "        lstm_dropout = tf.contrib.rnn.DropoutWrapper(lstm,input_keep_prob = keep_prob)\n",
    "        decoder_cell = tf.contrib.rnn.MultiRNNCell([lstm_dropout]*num_layers)\n",
    "        weights = tf.truncated_normal_initializer(stddev = 0.1)\n",
    "        biases = tf.zeros_initializer()\n",
    "        output_function = lambda x: tf.contrib.layers.fully_connected(x,\n",
    "                                                                      num_words,\n",
    "                                                                      None,\n",
    "                                                                      scope = decoding_scope,\n",
    "                                                                      weights_initializers = weights,\n",
    "                                                                      biases_initializers = biases\n",
    "        )\n",
    "        training_predictions = decode_training_set(encoder_state,\n",
    "                                                   decoder_cell,\n",
    "                                                   decoder_embedded_input,\n",
    "                                                   sequance_length,\n",
    "                                                   decoding_scope,\n",
    "                                                   output_function,\n",
    "                                                   keep_prob,\n",
    "                                                   batch_size\n",
    "        )\n",
    "        decoding_scope.reuse_variables()\n",
    "        test_predictions = decode_test_set(encoder_state,\n",
    "                                          decoder_sell,\n",
    "                                          decoder_embeddings_matrix,\n",
    "                                          word2int['<SOS>'],\n",
    "                                          word2int['<EOS>'],\n",
    "                                           sequence_length - 1,\n",
    "                                           num_words,\n",
    "                                           decoding_scope,\n",
    "                                           output_function,\n",
    "                                           keep_prob,\n",
    "                                           batch_size)\n",
    "        return training_predictions,test_predictions\n",
    "                                           "
   ]
  },
  {
   "cell_type": "code",
   "execution_count": 23,
   "id": "324060c2",
   "metadata": {},
   "outputs": [],
   "source": [
    "#Building seq2seq model\n",
    "def seq2seq_model(inputs,targets, keep_prob, batch_size, sequence_len, answers_num_words, question_num_words, encoder_embedding_size, decoder_embedding_size, rnn_size, num_layers, questionswords2int ):\n",
    "    encoder_embedded_input = tf.compat.v1.estimator.layers.embed_sequence(inputs,\n",
    "                                                             answers_num_words +1,\n",
    "                                                             encoder_embedding_size,\n",
    "                                                             initializer = tf.random_uniform_initializer(0,1)\n",
    "                                                              # initializer= tf2.initializers.GlorotUniform()\n",
    "                                                             )\n",
    "    encoder_state = encoder_rnn(encoder_embedded_input,rnn_size, num_layers, keep_prob, sequence_length)\n",
    "    preprocessed_targets = preprocess_targets(targets, questionswords2int, batch_size)\n",
    "    decoder_embeddings_mtrix = tf.Variable(tf.random_uniform([questions_num_words +1, decoder_embedding_size],0,1))\n",
    "    decoder_embedded_input = tf.nn.embedding_lookup(decoder_embedding_matrix, preprocessed_targets)\n",
    "    training_predictions, test_predictions = decoder_rnn(decoder_embedded_input,\n",
    "                                                         decoder_embeddings_matrix,\n",
    "                                                         encoder_state,\n",
    "                                                         questions_num_words,\n",
    "                                                         sequence_length,\n",
    "                                                         rnn_size,\n",
    "                                                         num_layers,\n",
    "                                                         questionswords2int,\n",
    "                                                         keep_prob,\n",
    "                                                         batch_size)\n",
    "    return training_predictions, test_predictions"
   ]
  },
  {
   "cell_type": "code",
   "execution_count": 24,
   "id": "e277fe18",
   "metadata": {},
   "outputs": [],
   "source": [
    "################################PART3- TRAINING the seq2seq Model ###########################################\n",
    "#Setting the Hyperparameters\n",
    "epochs=100\n",
    "batch_size =64\n",
    "rnn_size = 512\n",
    "num_layers =3\n",
    "encoding_embedding_size =512\n",
    "decoding_embedding_size = 512\n",
    "learning_rate =0.01\n",
    "learning_rate_decay=0.9\n",
    "min_learning_rate = 0.0001\n",
    "keep_probability = 0.5"
   ]
  },
  {
   "cell_type": "code",
   "execution_count": 25,
   "id": "2eb4adb7",
   "metadata": {},
   "outputs": [],
   "source": [
    "# #Defining a session\n",
    "# tf.reset_default_graph()\n",
    "# session = tf.InteractiveSession()"
   ]
  },
  {
   "cell_type": "code",
   "execution_count": 26,
   "id": "3cb6c9a0",
   "metadata": {},
   "outputs": [],
   "source": [
    "# #Defining a session\n",
    "# from tensorflow.python.framework import ops\n",
    "# ops.reset_default_graph()\n",
    "# session = tf.InteractiveSession()"
   ]
  },
  {
   "cell_type": "code",
   "execution_count": 27,
   "id": "9801e630",
   "metadata": {},
   "outputs": [],
   "source": [
    "#Defining a session\n",
    "from tensorflow.python.framework import ops\n",
    "ops.reset_default_graph()\n",
    "session =tf.compat.v1.InteractiveSession()"
   ]
  },
  {
   "cell_type": "code",
   "execution_count": 28,
   "id": "2f4acd0e",
   "metadata": {},
   "outputs": [],
   "source": [
    "#Loading the model inputs\n",
    "inputs, targets, lr, keep_prob = model_inputs()"
   ]
  },
  {
   "cell_type": "code",
   "execution_count": 29,
   "id": "0157375a",
   "metadata": {},
   "outputs": [],
   "source": [
    "#Setting the sequence length\n",
    "sequence_length = tf.placeholder_with_default(25, None, name = 'sequence_length') "
   ]
  },
  {
   "cell_type": "code",
   "execution_count": 30,
   "id": "58345fdb",
   "metadata": {},
   "outputs": [],
   "source": [
    "# Getting the shape of the inputs tensor\n",
    "input_shape = tf.shape(inputs)"
   ]
  },
  {
   "cell_type": "code",
   "execution_count": 31,
   "id": "b40bd982",
   "metadata": {},
   "outputs": [
    {
     "name": "stdout",
     "output_type": "stream",
     "text": [
      "2.7.0\n"
     ]
    }
   ],
   "source": [
    "import tensorflow as tf\n",
    "\n",
    "print(tf.__version__)"
   ]
  },
  {
   "cell_type": "code",
   "execution_count": 34,
   "id": "093f1c34",
   "metadata": {},
   "outputs": [
    {
     "ename": "ImportError",
     "evalue": "cannot import name 'layers' from 'tensorflow_estimator.python.estimator' (C:\\Users\\USER\\anaconda3\\envs\\divar-nlp-workshop\\lib\\site-packages\\tensorflow_estimator\\python\\estimator\\__init__.py)",
     "output_type": "error",
     "traceback": [
      "\u001b[1;31m---------------------------------------------------------------------------\u001b[0m",
      "\u001b[1;31mImportError\u001b[0m                               Traceback (most recent call last)",
      "\u001b[1;32m~\\AppData\\Local\\Temp/ipykernel_2436/435736450.py\u001b[0m in \u001b[0;36m<module>\u001b[1;34m\u001b[0m\n\u001b[1;32m----> 1\u001b[1;33m \u001b[1;32mfrom\u001b[0m \u001b[0mtensorflow_estimator\u001b[0m\u001b[1;33m.\u001b[0m\u001b[0mpython\u001b[0m\u001b[1;33m.\u001b[0m\u001b[0mestimator\u001b[0m \u001b[1;32mimport\u001b[0m \u001b[0mlayers\u001b[0m\u001b[1;33m\u001b[0m\u001b[1;33m\u001b[0m\u001b[0m\n\u001b[0m",
      "\u001b[1;31mImportError\u001b[0m: cannot import name 'layers' from 'tensorflow_estimator.python.estimator' (C:\\Users\\USER\\anaconda3\\envs\\divar-nlp-workshop\\lib\\site-packages\\tensorflow_estimator\\python\\estimator\\__init__.py)"
     ]
    }
   ],
   "source": [
    "from tensorflow_estimator.python.estimator import layers"
   ]
  },
  {
   "cell_type": "code",
   "execution_count": 32,
   "id": "ccd198f1",
   "metadata": {},
   "outputs": [
    {
     "ename": "AttributeError",
     "evalue": "module 'tensorflow_estimator.python.estimator.api._v1.estimator' has no attribute 'layers'",
     "output_type": "error",
     "traceback": [
      "\u001b[1;31m---------------------------------------------------------------------------\u001b[0m",
      "\u001b[1;31mAttributeError\u001b[0m                            Traceback (most recent call last)",
      "\u001b[1;32m~\\AppData\\Local\\Temp/ipykernel_2436/4069479040.py\u001b[0m in \u001b[0;36m<module>\u001b[1;34m\u001b[0m\n\u001b[0;32m      1\u001b[0m \u001b[1;31m# Getting the training and test predictions\u001b[0m\u001b[1;33m\u001b[0m\u001b[1;33m\u001b[0m\u001b[1;33m\u001b[0m\u001b[0m\n\u001b[1;32m----> 2\u001b[1;33m training_predictions, test_predictions = seq2seq_model(tf.reverse(inputs, [-1]),\n\u001b[0m\u001b[0;32m      3\u001b[0m                                                       \u001b[0mtargets\u001b[0m\u001b[1;33m,\u001b[0m\u001b[1;33m\u001b[0m\u001b[1;33m\u001b[0m\u001b[0m\n\u001b[0;32m      4\u001b[0m                                                       \u001b[0mkeep_prob\u001b[0m\u001b[1;33m,\u001b[0m\u001b[1;33m\u001b[0m\u001b[1;33m\u001b[0m\u001b[0m\n\u001b[0;32m      5\u001b[0m                                                       \u001b[0mbatch_size\u001b[0m\u001b[1;33m,\u001b[0m\u001b[1;33m\u001b[0m\u001b[1;33m\u001b[0m\u001b[0m\n",
      "\u001b[1;32m~\\AppData\\Local\\Temp/ipykernel_2436/1795584005.py\u001b[0m in \u001b[0;36mseq2seq_model\u001b[1;34m(inputs, targets, keep_prob, batch_size, sequence_len, answers_num_words, question_num_words, encoder_embedding_size, decoder_embedding_size, rnn_size, num_layers, questionswords2int)\u001b[0m\n\u001b[0;32m      1\u001b[0m \u001b[1;31m#Building seq2seq model\u001b[0m\u001b[1;33m\u001b[0m\u001b[1;33m\u001b[0m\u001b[1;33m\u001b[0m\u001b[0m\n\u001b[0;32m      2\u001b[0m \u001b[1;32mdef\u001b[0m \u001b[0mseq2seq_model\u001b[0m\u001b[1;33m(\u001b[0m\u001b[0minputs\u001b[0m\u001b[1;33m,\u001b[0m\u001b[0mtargets\u001b[0m\u001b[1;33m,\u001b[0m \u001b[0mkeep_prob\u001b[0m\u001b[1;33m,\u001b[0m \u001b[0mbatch_size\u001b[0m\u001b[1;33m,\u001b[0m \u001b[0msequence_len\u001b[0m\u001b[1;33m,\u001b[0m \u001b[0manswers_num_words\u001b[0m\u001b[1;33m,\u001b[0m \u001b[0mquestion_num_words\u001b[0m\u001b[1;33m,\u001b[0m \u001b[0mencoder_embedding_size\u001b[0m\u001b[1;33m,\u001b[0m \u001b[0mdecoder_embedding_size\u001b[0m\u001b[1;33m,\u001b[0m \u001b[0mrnn_size\u001b[0m\u001b[1;33m,\u001b[0m \u001b[0mnum_layers\u001b[0m\u001b[1;33m,\u001b[0m \u001b[0mquestionswords2int\u001b[0m \u001b[1;33m)\u001b[0m\u001b[1;33m:\u001b[0m\u001b[1;33m\u001b[0m\u001b[1;33m\u001b[0m\u001b[0m\n\u001b[1;32m----> 3\u001b[1;33m     encoder_embedded_input = tf.compat.v1.estimator.layers.embed_sequence(inputs,\n\u001b[0m\u001b[0;32m      4\u001b[0m                                                              \u001b[0manswers_num_words\u001b[0m \u001b[1;33m+\u001b[0m\u001b[1;36m1\u001b[0m\u001b[1;33m,\u001b[0m\u001b[1;33m\u001b[0m\u001b[1;33m\u001b[0m\u001b[0m\n\u001b[0;32m      5\u001b[0m                                                              \u001b[0mencoder_embedding_size\u001b[0m\u001b[1;33m,\u001b[0m\u001b[1;33m\u001b[0m\u001b[1;33m\u001b[0m\u001b[0m\n",
      "\u001b[1;32m~\\anaconda3\\envs\\divar-nlp-workshop\\lib\\site-packages\\tensorflow\\python\\util\\lazy_loader.py\u001b[0m in \u001b[0;36m__getattr__\u001b[1;34m(self, item)\u001b[0m\n\u001b[0;32m     61\u001b[0m   \u001b[1;32mdef\u001b[0m \u001b[0m__getattr__\u001b[0m\u001b[1;33m(\u001b[0m\u001b[0mself\u001b[0m\u001b[1;33m,\u001b[0m \u001b[0mitem\u001b[0m\u001b[1;33m)\u001b[0m\u001b[1;33m:\u001b[0m\u001b[1;33m\u001b[0m\u001b[1;33m\u001b[0m\u001b[0m\n\u001b[0;32m     62\u001b[0m     \u001b[0mmodule\u001b[0m \u001b[1;33m=\u001b[0m \u001b[0mself\u001b[0m\u001b[1;33m.\u001b[0m\u001b[0m_load\u001b[0m\u001b[1;33m(\u001b[0m\u001b[1;33m)\u001b[0m\u001b[1;33m\u001b[0m\u001b[1;33m\u001b[0m\u001b[0m\n\u001b[1;32m---> 63\u001b[1;33m     \u001b[1;32mreturn\u001b[0m \u001b[0mgetattr\u001b[0m\u001b[1;33m(\u001b[0m\u001b[0mmodule\u001b[0m\u001b[1;33m,\u001b[0m \u001b[0mitem\u001b[0m\u001b[1;33m)\u001b[0m\u001b[1;33m\u001b[0m\u001b[1;33m\u001b[0m\u001b[0m\n\u001b[0m\u001b[0;32m     64\u001b[0m \u001b[1;33m\u001b[0m\u001b[0m\n\u001b[0;32m     65\u001b[0m   \u001b[1;32mdef\u001b[0m \u001b[0m__dir__\u001b[0m\u001b[1;33m(\u001b[0m\u001b[0mself\u001b[0m\u001b[1;33m)\u001b[0m\u001b[1;33m:\u001b[0m\u001b[1;33m\u001b[0m\u001b[1;33m\u001b[0m\u001b[0m\n",
      "\u001b[1;32m~\\anaconda3\\envs\\divar-nlp-workshop\\lib\\site-packages\\tensorflow\\python\\util\\module_wrapper.py\u001b[0m in \u001b[0;36m_getattr\u001b[1;34m(self, name)\u001b[0m\n\u001b[0;32m    234\u001b[0m     \"\"\"\n\u001b[0;32m    235\u001b[0m     \u001b[1;32mtry\u001b[0m\u001b[1;33m:\u001b[0m\u001b[1;33m\u001b[0m\u001b[1;33m\u001b[0m\u001b[0m\n\u001b[1;32m--> 236\u001b[1;33m       \u001b[0mattr\u001b[0m \u001b[1;33m=\u001b[0m \u001b[0mgetattr\u001b[0m\u001b[1;33m(\u001b[0m\u001b[0mself\u001b[0m\u001b[1;33m.\u001b[0m\u001b[0m_tfmw_wrapped_module\u001b[0m\u001b[1;33m,\u001b[0m \u001b[0mname\u001b[0m\u001b[1;33m)\u001b[0m\u001b[1;33m\u001b[0m\u001b[1;33m\u001b[0m\u001b[0m\n\u001b[0m\u001b[0;32m    237\u001b[0m     \u001b[1;32mexcept\u001b[0m \u001b[0mAttributeError\u001b[0m\u001b[1;33m:\u001b[0m\u001b[1;33m\u001b[0m\u001b[1;33m\u001b[0m\u001b[0m\n\u001b[0;32m    238\u001b[0m     \u001b[1;31m# Placeholder for Google-internal contrib error\u001b[0m\u001b[1;33m\u001b[0m\u001b[1;33m\u001b[0m\u001b[1;33m\u001b[0m\u001b[0m\n",
      "\u001b[1;31mAttributeError\u001b[0m: module 'tensorflow_estimator.python.estimator.api._v1.estimator' has no attribute 'layers'"
     ]
    }
   ],
   "source": [
    "# Getting the training and test predictions\n",
    "training_predictions, test_predictions = seq2seq_model(tf.reverse(inputs, [-1]),\n",
    "                                                      targets,\n",
    "                                                      keep_prob,\n",
    "                                                      batch_size,\n",
    "                                                      sequence_length,\n",
    "                                                      len(answerswords2int),\n",
    "                                                      len(questionswords2int),\n",
    "                                                      encoding_embedding_size,\n",
    "                                                      decoding_embedding_size,\n",
    "                                                      rnn_size,\n",
    "                                                      num_layers,\n",
    "                                                      questionswords2int)"
   ]
  },
  {
   "cell_type": "code",
   "execution_count": null,
   "id": "2bff4b31",
   "metadata": {},
   "outputs": [],
   "source": [
    "#Setting up the Loss Error, the Optimizer and Gradient Clipping\n",
    "with tf.name_scope(\"optimization\"):\n",
    "    loss_error =tf.compat.v1.estimator.seq2seq.sequence_loss(training_predictions,\n",
    "                                                 targets,\n",
    "                                                 tf.ones([input_shape[0],sequence_length]))\n",
    "    optimizer = tf.train.AdamOptimizer(learning_rate)\n",
    "    gradients = optimizer.compute_gradients(loss_error)\n",
    "    clipped_gradients = [(tf.clip_by_value(grad_tensor,-5.,5.),grad_variable) for grad_tensor, gard_variables in grad_tensor is not None]\n",
    "    optimizer_gradient_clipping = optimizer.apply_gradients(clipped_gradients)"
   ]
  },
  {
   "cell_type": "code",
   "execution_count": null,
   "id": "02b5a388",
   "metadata": {},
   "outputs": [],
   "source": [
    "#Padding the sequences with the <PAD> token\n",
    "#Question: [ 'who' ,'are', 'you', '<PAD>','<PAD>','<PAD>','<PAD>']\n",
    "#Answer : [ <SOS>, \"I\" ,'am', 'a', 'bot' ,'.' ,'<EOS>', '<PAD>']\n",
    "def apply_padding(batch_of_sequences, word2int):\n",
    "    max_sequence_length = max([len(sequence) for sequences in batch_of_sequences])\n",
    "    return [sequence + [wordint['<PAD>']]*(max_sequence_length - len(sequence)) for sequence in batch_of_sequences]"
   ]
  },
  {
   "cell_type": "code",
   "execution_count": null,
   "id": "a8af1434",
   "metadata": {},
   "outputs": [],
   "source": [
    "#Splitting the data into batches of questions and answers\n",
    "def split_into_batches(questions, answers, batch_size):\n",
    "    for batch_index in range(0, len(questions)// batch_size):\n",
    "        start_index = batch_index * batch_size\n",
    "        questions_in-batch = questions[start_index : start_index + batch_index]\n",
    "        answers_in_batch = answers[start_index : start_index + batch_index]\n",
    "        padded_questions_in_batch = np.array(apply_padding(questions_in_batch, questionswords2int))\n",
    "        padded_answers_in_batch = np.array(apply_padding(answers_in_batch,answerswords2int))\n",
    "        yield padded_questions_in_batch , padded_answers_in_batch"
   ]
  },
  {
   "cell_type": "code",
   "execution_count": null,
   "id": "fff9c549",
   "metadata": {},
   "outputs": [],
   "source": [
    "#Splitting the questions and answers into training and validation sets\n",
    "training_validation_split =int(len(sorted_clean_questions)*0.15)\n",
    "training_questions = sorted_clean_questions[training_validation_split:]\n",
    "training_answers=sorted_clean__answers[training_validation_split:]\n",
    "validation_questions = sorted_clean_questions[:training_validation_split]\n",
    "validation_answers = sorted_clean_answers[:training_validation_split]"
   ]
  },
  {
   "cell_type": "code",
   "execution_count": null,
   "id": "2c6696ff",
   "metadata": {},
   "outputs": [],
   "source": [
    "#Training\n",
    "batch_index_check_training_loss = 100\n",
    "batch_index_check_validation_loss = ((len(training_questions)) // batch_size // 2) - 1\n",
    "total_training_loss_error = 0\n",
    "list_validation_loss_error = []\n",
    "early_stopping_check = 0\n",
    "early_stopping_stop = 1000\n",
    "checkpoint = \"chatbot_weights.ckpt\"\n",
    "session.run(tf.global_variables_initializer)\n",
    "for epoch in range(1,epochs + 1):\n",
    "    for batch_index, (padded_questions_in_batch,padded_answers_in_batch) in  enumerate(split_into_batches(training_questions,training_answers,batch_size)):\n",
    "    starting_time =time.time()\n",
    "    _, batch_training_loss_error = session.run([optimizer_gradient_clipping, loss_error],{inputs:padded_questions_in_batch,\n",
    "                                                                                         targets:padded_answers_in_batch,\n",
    "                                                                                         lr:learning_rate,\n",
    "                                                                                         sequnce_length:padded_answers_in_batch.shape[1],\n",
    "                                                                                         keep_prob:keep_probability})\n",
    "    total_training_loss_error += batch_training_loss_error\n",
    "    ending_time=time.time()\n",
    "    batch_time = ending_time - starting_time\n",
    "    if batch_index % batch_index_check_training_loss == 0:\n",
    "        print('Epoch: {:>3}/{}, Batch :{:>4}/{}, Training Loss Error: {:>6.3f}, Training Time on 100 Batches:{:d} seconds'.format(epoch,\n",
    "                                                                                                                                epochs,\n",
    "                                                                                                                                 batch_index,\n",
    "                                                                                                                                 len(training_question)//batch_size,\n",
    "                                                                                                                                 total_training_loss_error/\n",
    "                                                                                                                                 batch_index_check_training_loss,\n",
    "                                                                                                                                 int(batch_time * batch_index_check_training_loss)))\n",
    "        \n",
    "        total_training_loss_error=0\n",
    "        if batch_index % batch_index_check_training_loss == 0 and batch_index >0:\n",
    "            total_validation_loss_error = 0\n",
    "            starting_time = time.time()\n",
    "            for batch_index_validation , (padded_questions_in_batch, padded_answers_in_batch) in  enumerate(split_into_batches(validation_questions, validation_answers))\n",
    "                batch_validation_loss_error = session.run(loss_error,(inputs: padded_questions_in_batch)\n",
    "                                                         targets:padded_answers_in_batch\n",
    "                                                         lr:learning_rate,\n",
    "                                                         sequence_length:padded_answers_in_batch.shape[1],\n",
    "                                                         keep_prob:1})\n",
    "                total_validation_loss_error += batch_validation_loss_error\n",
    "            ending_time = time.time()\n",
    "            batch_time=ending_time - starting_time\n",
    "            average_validation_loss_error = total_validation_loss_error / (len(validation_questions) / batch_size)\n",
    "            print('Validation Loss Error: {:>6.3f}, Batch Validation Time: {:d} seconds' .format(average_validation_loss_error, int(batch_time)))\n",
    "            learning_rate *= learning_rate_decay\n",
    "            if learning_rate < min_learning_rate:\n",
    "                learning_rate = min_learning_rate\n",
    "            list_validation_loss_error.append(average_validation_loss_error)\n",
    "            if average_validation_loss_error <= min(list_validation_loss_error):\n",
    "                print('I speak better now !!')\n",
    "                early_stopping_check = 0\n",
    "                saver = tf.train.Saver()\n",
    "                saver.save(session,checkpoint)\n",
    "            else:\n",
    "                print('Sorry I do not speak better, I need to practice more.')\n",
    "                early_stopping_check +=1\n",
    "                if early_stopping_check == early_stopping_stop:\n",
    "                    break\n",
    "            if eraly_stopping_check == early_stopping_stop:\n",
    "                print('My appologies, I cannot speak better anymore. This is the best Ican do.')\n",
    "                break\n",
    "            print('Game over')    "
   ]
  },
  {
   "cell_type": "code",
   "execution_count": null,
   "id": "39e7112e",
   "metadata": {},
   "outputs": [],
   "source": [
    "###########################PART4 TESTING SEQ2SEQ MODEL############################\n",
    "\n",
    "\n",
    "#Loading the weights and Running the session\n",
    "checkpoint = \"./ chatbot_weights.ckpt\"\n",
    "session=tf.InteractiveSession()\n",
    "session.run(tf.global_variables_initializer())\n",
    "saver=tf.train.Saver()\n",
    "saver.restore(session, checkpoint)"
   ]
  },
  {
   "cell_type": "code",
   "execution_count": null,
   "id": "ed014e62",
   "metadata": {},
   "outputs": [],
   "source": [
    "#Converting the questionsfrom strings to lists of encoding integers\n",
    "def convert_string2int(question,word2int):\n",
    "    question = clean_text(question)\n",
    "    return [word2int.get(word, word2int['<OUT>']) for word in question.split()]"
   ]
  },
  {
   "cell_type": "code",
   "execution_count": null,
   "id": "28d2ecb4",
   "metadata": {},
   "outputs": [],
   "source": [
    "#Setting up the chat\n",
    "while(True):\n",
    "    question = input(\"You: \")\n",
    "    if question == \"Goodby\":\n",
    "        break\n",
    "    question = convert_string2int(question, questionswords2int)\n",
    "    question = question + [questionswords2int['<PAD>']] * (20 - len(question))\n",
    "    fake_batch = np.zeros((batch_size, 20))\n",
    "    fake_batch [0] = question\n",
    "    predicted_answer = session.run(test_predictions, {inputs : fake_batch , keep_prob : 0.5})[0]\n",
    "    answer = ''\n",
    "    for i in np.argmax(predicted_answer,1):\n",
    "        if answersints2word[i]=='i':\n",
    "            token =' I'\n",
    "        elif answersints2word[i] == '<EOS>':\n",
    "            token = '.'\n",
    "        elif answersintsword[i] == '<OUT>':\n",
    "            token = 'out'\n",
    "        else:\n",
    "            token = ' ' + answersints2word[i]\n",
    "        answer += token\n",
    "        if token == '.':\n",
    "            break\n",
    "        print('ChatBot: ' + answer)    "
   ]
  },
  {
   "cell_type": "code",
   "execution_count": null,
   "id": "5855a214",
   "metadata": {},
   "outputs": [],
   "source": [
    "# questionswords2int"
   ]
  },
  {
   "cell_type": "code",
   "execution_count": null,
   "id": "7679e247",
   "metadata": {},
   "outputs": [],
   "source": [
    "# questions"
   ]
  },
  {
   "cell_type": "code",
   "execution_count": null,
   "id": "0dd9b65f",
   "metadata": {},
   "outputs": [],
   "source": [
    "#id2line"
   ]
  },
  {
   "cell_type": "code",
   "execution_count": null,
   "id": "4fa69fd7",
   "metadata": {},
   "outputs": [],
   "source": [
    "#lines"
   ]
  },
  {
   "cell_type": "code",
   "execution_count": null,
   "id": "e8455f3f",
   "metadata": {},
   "outputs": [],
   "source": []
  },
  {
   "cell_type": "code",
   "execution_count": null,
   "id": "9d858eb8",
   "metadata": {},
   "outputs": [],
   "source": []
  }
 ],
 "metadata": {
  "kernelspec": {
   "display_name": "divar-nlp-workshop",
   "language": "python",
   "name": "divar-nlp-workshop"
  },
  "language_info": {
   "codemirror_mode": {
    "name": "ipython",
    "version": 3
   },
   "file_extension": ".py",
   "mimetype": "text/x-python",
   "name": "python",
   "nbconvert_exporter": "python",
   "pygments_lexer": "ipython3",
   "version": "3.8.12"
  }
 },
 "nbformat": 4,
 "nbformat_minor": 5
}
